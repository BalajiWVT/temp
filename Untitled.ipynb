{
 "cells": [
  {
   "cell_type": "code",
   "execution_count": 1,
   "id": "7e16a9b5",
   "metadata": {},
   "outputs": [
    {
     "name": "stdout",
     "output_type": "stream",
     "text": [
      "Recommended Resolutions:\n",
      "Title: Printer Not Working\n",
      "Resolution Description: Check printer connections and restart printer.\n",
      "Resolution Category: Hardware\n",
      "\n",
      "Title: Software Update Problem\n",
      "Resolution Description: Reinstall software and restart computer.\n",
      "Resolution Category: Software\n",
      "\n",
      "Title: Network Connectivity Issue\n",
      "Resolution Description: Restart router and try reconnecting.\n",
      "Resolution Category: Network\n",
      "\n"
     ]
    }
   ],
   "source": [
    "import pandas as pd\n",
    "from sklearn.feature_extraction.text import TfidfVectorizer\n",
    "from sklearn.metrics.pairwise import cosine_similarity\n",
    "\n",
    "# Sample dataset of previous INCs\n",
    "data = {\n",
    "    'title': ['Network Connectivity Issue', 'Software Update Problem', 'Printer Not Working'],\n",
    "    'resolution_description': ['Restart router and try reconnecting.', 'Reinstall software and restart computer.', 'Check printer connections and restart printer.'],\n",
    "    'resolution_category': ['Network', 'Software', 'Hardware']\n",
    "}\n",
    "\n",
    "# Convert data to DataFrame\n",
    "df = pd.DataFrame(data)\n",
    "\n",
    "# Preprocess text data (optional)\n",
    "# For simplicity, skipping preprocessing in this example\n",
    "\n",
    "# Initialize TF-IDF Vectorizer\n",
    "tfidf_vectorizer = TfidfVectorizer()\n",
    "\n",
    "# Fit and transform the resolution descriptions\n",
    "tfidf_matrix = tfidf_vectorizer.fit_transform(df['resolution_description'])\n",
    "\n",
    "# Function to recommend resolutions for new INC\n",
    "def recommend_resolution(new_inc, top_k=3):\n",
    "    # Transform new INC resolution description using TF-IDF vectorizer\n",
    "    new_tfidf = tfidf_vectorizer.transform([new_inc])\n",
    "    \n",
    "    # Calculate cosine similarity between new INC and existing INCs\n",
    "    similarity_scores = cosine_similarity(new_tfidf, tfidf_matrix)\n",
    "    \n",
    "    # Get indices of top-k most similar INCs\n",
    "    similar_indices = similarity_scores.argsort()[0][-top_k:][::-1]\n",
    "    \n",
    "    # Print recommended resolutions\n",
    "    print(\"Recommended Resolutions:\")\n",
    "    for index in similar_indices:\n",
    "        print(f\"Title: {df['title'][index]}\")\n",
    "        print(f\"Resolution Description: {df['resolution_description'][index]}\")\n",
    "        print(f\"Resolution Category: {df['resolution_category'][index]}\")\n",
    "        print()\n",
    "\n",
    "# Example usage\n",
    "new_inc = \"Unable to access company network\"\n",
    "recommend_resolution(new_inc)\n"
   ]
  },
  {
   "cell_type": "code",
   "execution_count": 2,
   "id": "587c33d1",
   "metadata": {},
   "outputs": [
    {
     "data": {
      "text/plain": [
       "<3x11 sparse matrix of type '<class 'numpy.float64'>'\n",
       "\twith 15 stored elements in Compressed Sparse Row format>"
      ]
     },
     "execution_count": 2,
     "metadata": {},
     "output_type": "execute_result"
    }
   ],
   "source": []
  },
  {
   "cell_type": "code",
   "execution_count": 3,
   "id": "4241360f",
   "metadata": {},
   "outputs": [
    {
     "name": "stdout",
     "output_type": "stream",
     "text": [
      "WARNING:tensorflow:From C:\\Users\\gbala\\anaconda3\\lib\\site-packages\\keras\\src\\losses.py:2976: The name tf.losses.sparse_softmax_cross_entropy is deprecated. Please use tf.compat.v1.losses.sparse_softmax_cross_entropy instead.\n",
      "\n"
     ]
    },
    {
     "ename": "NameError",
     "evalue": "name 'load_pretrained_word_embeddings' is not defined",
     "output_type": "error",
     "traceback": [
      "\u001b[1;31m---------------------------------------------------------------------------\u001b[0m",
      "\u001b[1;31mNameError\u001b[0m                                 Traceback (most recent call last)",
      "Cell \u001b[1;32mIn[3], line 14\u001b[0m\n\u001b[0;32m      7\u001b[0m training_data \u001b[38;5;241m=\u001b[39m [\n\u001b[0;32m      8\u001b[0m     (\u001b[38;5;124m\"\u001b[39m\u001b[38;5;124mRestart router and try reconnecting.\u001b[39m\u001b[38;5;124m\"\u001b[39m, \u001b[38;5;124m\"\u001b[39m\u001b[38;5;124mReinstall software and restart computer.\u001b[39m\u001b[38;5;124m\"\u001b[39m, \u001b[38;5;241m1\u001b[39m),\n\u001b[0;32m      9\u001b[0m     (\u001b[38;5;124m\"\u001b[39m\u001b[38;5;124mRestart router and try reconnecting.\u001b[39m\u001b[38;5;124m\"\u001b[39m, \u001b[38;5;124m\"\u001b[39m\u001b[38;5;124mCheck printer connections and restart printer.\u001b[39m\u001b[38;5;124m\"\u001b[39m, \u001b[38;5;241m0\u001b[39m),\n\u001b[0;32m     10\u001b[0m     \u001b[38;5;66;03m# More training pairs...\u001b[39;00m\n\u001b[0;32m     11\u001b[0m ]\n\u001b[0;32m     13\u001b[0m \u001b[38;5;66;03m# Pre-trained word embeddings (e.g., GloVe)\u001b[39;00m\n\u001b[1;32m---> 14\u001b[0m word_embeddings \u001b[38;5;241m=\u001b[39m \u001b[43mload_pretrained_word_embeddings\u001b[49m()\n\u001b[0;32m     16\u001b[0m \u001b[38;5;66;03m# Siamese network architecture\u001b[39;00m\n\u001b[0;32m     17\u001b[0m input_a \u001b[38;5;241m=\u001b[39m Input(shape\u001b[38;5;241m=\u001b[39m(max_sequence_length,))\n",
      "\u001b[1;31mNameError\u001b[0m: name 'load_pretrained_word_embeddings' is not defined"
     ]
    }
   ],
   "source": [
    "from keras.models import Model\n",
    "from keras.layers import Input, Embedding, LSTM, Dense, Lambda\n",
    "from keras.optimizers import Adam\n",
    "import numpy as np\n",
    "\n",
    "# Sample training data (pairs of resolution descriptions and similarity labels)\n",
    "training_data = [\n",
    "    (\"Restart router and try reconnecting.\", \"Reinstall software and restart computer.\", 1),\n",
    "    (\"Restart router and try reconnecting.\", \"Check printer connections and restart printer.\", 0),\n",
    "    # More training pairs...\n",
    "]\n",
    "\n",
    "# Pre-trained word embeddings (e.g., GloVe)\n",
    "word_embeddings = load_pretrained_word_embeddings()\n",
    "\n",
    "# Siamese network architecture\n",
    "input_a = Input(shape=(max_sequence_length,))\n",
    "input_b = Input(shape=(max_sequence_length,))\n",
    "embedding_layer = Embedding(num_words, embedding_dim, weights=[word_embeddings], trainable=False)\n",
    "lstm_layer = LSTM(64)\n",
    "output_a = lstm_layer(embedding_layer(input_a))\n",
    "output_b = lstm_layer(embedding_layer(input_b))\n",
    "distance = Lambda(lambda x: cosine_similarity(x[0], x[1]))([output_a, output_b])\n",
    "output = Dense(1, activation='sigmoid')(distance)\n",
    "model = Model([input_a, input_b], output)\n",
    "\n",
    "# Compile the model\n",
    "model.compile(loss='binary_crossentropy', optimizer=Adam(), metrics=['accuracy'])\n",
    "\n",
    "# Training the model\n",
    "model.fit([pair[0], pair[1]], pair[2], epochs=10, batch_size=32)\n",
    "\n",
    "# Given a new INC, recommend resolutions\n",
    "def recommend_resolution(new_inc):\n",
    "    # Compute similarity scores between new_inc and existing INCs' resolution descriptions\n",
    "    similarity_scores = []\n",
    "    for existing_inc_resolution in existing_inc_resolutions:\n",
    "        similarity_score = model.predict([new_inc, existing_inc_resolution])\n",
    "        similarity_scores.append(similarity_score)\n",
    "    \n",
    "    # Rank existing INCs based on similarity scores and recommend resolutions\n",
    "    recommended_resolutions = rank_and_recommend(similarity_scores)\n",
    "    return recommended_resolutions\n",
    "\n",
    "# Example usage\n",
    "new_inc = \"Unable to access company network\"\n",
    "recommendations = recommend_resolution(new_inc)\n",
    "print(recommendations)\n"
   ]
  },
  {
   "cell_type": "code",
   "execution_count": 4,
   "id": "3e4c459c",
   "metadata": {},
   "outputs": [
    {
     "ename": "NameError",
     "evalue": "name 'num_incs' is not defined",
     "output_type": "error",
     "traceback": [
      "\u001b[1;31m---------------------------------------------------------------------------\u001b[0m",
      "\u001b[1;31mNameError\u001b[0m                                 Traceback (most recent call last)",
      "Cell \u001b[1;32mIn[4], line 15\u001b[0m\n\u001b[0;32m     12\u001b[0m df \u001b[38;5;241m=\u001b[39m pd\u001b[38;5;241m.\u001b[39mDataFrame(data)\n\u001b[0;32m     14\u001b[0m \u001b[38;5;66;03m# Create a user-item interaction matrix\u001b[39;00m\n\u001b[1;32m---> 15\u001b[0m interaction_matrix \u001b[38;5;241m=\u001b[39m np\u001b[38;5;241m.\u001b[39mrandom\u001b[38;5;241m.\u001b[39mrandint(\u001b[38;5;241m0\u001b[39m, \u001b[38;5;241m2\u001b[39m, size\u001b[38;5;241m=\u001b[39m(\u001b[43mnum_incs\u001b[49m, num_resolutions))  \u001b[38;5;66;03m# Random example\u001b[39;00m\n\u001b[0;32m     17\u001b[0m \u001b[38;5;66;03m# Function to recommend resolutions for new INC\u001b[39;00m\n\u001b[0;32m     18\u001b[0m \u001b[38;5;28;01mdef\u001b[39;00m \u001b[38;5;21mrecommend_resolution\u001b[39m(new_inc, neighborhood_size\u001b[38;5;241m=\u001b[39m\u001b[38;5;241m5\u001b[39m):\n\u001b[0;32m     19\u001b[0m     \u001b[38;5;66;03m# Compute similarities between the new INC and existing INCs\u001b[39;00m\n",
      "\u001b[1;31mNameError\u001b[0m: name 'num_incs' is not defined"
     ]
    }
   ],
   "source": [
    "import numpy as np\n",
    "from sklearn.metrics.pairwise import cosine_similarity\n",
    "\n",
    "# Sample dataset of previous INCs\n",
    "data = {\n",
    "    'title': ['Network Connectivity Issue', 'Software Update Problem', 'Printer Not Working'],\n",
    "    'resolution_description': ['Restart router and try reconnecting.', 'Reinstall software and restart computer.', 'Check printer connections and restart printer.'],\n",
    "    'resolution_category': ['Network', 'Software', 'Hardware']\n",
    "}\n",
    "\n",
    "# Convert data to DataFrame\n",
    "df = pd.DataFrame(data)\n",
    "\n",
    "# Create a user-item interaction matrix\n",
    "interaction_matrix = np.random.randint(0, 2, size=(num_incs, num_resolutions))  # Random example\n",
    "\n",
    "# Function to recommend resolutions for new INC\n",
    "def recommend_resolution(new_inc, neighborhood_size=5):\n",
    "    # Compute similarities between the new INC and existing INCs\n",
    "    similarities = cosine_similarity(new_inc, interaction_matrix)\n",
    "    \n",
    "    # Find the most similar INCs\n",
    "    similar_indices = similarities.argsort()[0][-neighborhood_size:][::-1]\n",
    "    \n",
    "    # Extract resolutions from similar INCs and recommend\n",
    "    recommended_resolutions = []\n",
    "    for index in similar_indices:\n",
    "        recommended_resolutions.extend(df['resolution_description'][index])\n",
    "    \n",
    "    return recommended_resolutions\n",
    "\n",
    "# Example usage\n",
    "new_inc = \"Unable to access company network\"\n",
    "recommendations = recommend_resolution(new_inc)\n",
    "print(recommendations)\n"
   ]
  },
  {
   "cell_type": "code",
   "execution_count": null,
   "id": "2e8f34d4",
   "metadata": {},
   "outputs": [],
   "source": []
  }
 ],
 "metadata": {
  "kernelspec": {
   "display_name": "Python 3 (ipykernel)",
   "language": "python",
   "name": "python3"
  },
  "language_info": {
   "codemirror_mode": {
    "name": "ipython",
    "version": 3
   },
   "file_extension": ".py",
   "mimetype": "text/x-python",
   "name": "python",
   "nbconvert_exporter": "python",
   "pygments_lexer": "ipython3",
   "version": "3.10.9"
  }
 },
 "nbformat": 4,
 "nbformat_minor": 5
}

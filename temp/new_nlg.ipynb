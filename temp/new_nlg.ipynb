{
 "cells": [
  {
   "cell_type": "code",
   "execution_count": 4,
   "id": "50305e44",
   "metadata": {},
   "outputs": [
    {
     "name": "stdout",
     "output_type": "stream",
     "text": [
      "Collecting en_core_web_sm==2.1.0\n",
      "  Downloading https://github.com/explosion/spacy-models/releases/download/en_core_web_sm-2.1.0/en_core_web_sm-2.1.0.tar.gz (11.1 MB)\n",
      "     ---------------------------------------- 11.1/11.1 MB 3.9 MB/s eta 0:00:00\n",
      "  Preparing metadata (setup.py): started\n",
      "  Preparing metadata (setup.py): finished with status 'done'\n",
      "Building wheels for collected packages: en_core_web_sm\n",
      "  Building wheel for en_core_web_sm (setup.py): started\n",
      "  Building wheel for en_core_web_sm (setup.py): finished with status 'done'\n",
      "  Created wheel for en_core_web_sm: filename=en_core_web_sm-2.1.0-py3-none-any.whl size=11074421 sha256=dcf218a40fcda1785905df3aff0a7717bb7381041707c54f49d5a26486788041\n",
      "  Stored in directory: C:\\Users\\gbala\\AppData\\Local\\Temp\\pip-ephem-wheel-cache-yrg37ew1\\wheels\\59\\4f\\8c\\0dbaab09a776d1fa3740e9465078bfd903cc22f3985382b496\n",
      "Successfully built en_core_web_sm\n",
      "Installing collected packages: en_core_web_sm\n",
      "Successfully installed en_core_web_sm-2.1.0\n",
      "[+] Download and installation successful\n",
      "You can now load the model via spacy.load('en_core_web_sm')\n"
     ]
    }
   ],
   "source": [
    "!python -m spacy download en_core_web_sm"
   ]
  },
  {
   "cell_type": "code",
   "execution_count": 5,
   "id": "1053d4da",
   "metadata": {},
   "outputs": [
    {
     "data": {
      "text/plain": [
       "'2.1.8'"
      ]
     },
     "execution_count": 5,
     "metadata": {},
     "output_type": "execute_result"
    }
   ],
   "source": [
    "import spacy\n",
    "spacy.__version__"
   ]
  },
  {
   "cell_type": "code",
   "execution_count": 6,
   "id": "d90f8061",
   "metadata": {},
   "outputs": [],
   "source": [
    "from nlg.utils import load_spacy_model\n",
    "from nlg import grammar\n",
    "from nlg.search import templatize\n",
    "import pandas as pd\n",
    "from gramex.data import filter as gfilter"
   ]
  },
  {
   "cell_type": "code",
   "execution_count": 481,
   "id": "dc08da2a",
   "metadata": {},
   "outputs": [],
   "source": [
    "df_2=pd.read_csv(\"dummy.csv\") # Dummy data\n",
    "df_2['Achieved'] = df_2['Success Percentage'].apply(lambda x: \"achieved\" if x > 99.6 else \"missed\")\n",
    "df_2['Month'] = pd.to_datetime(df_2['Month_Year'], format='%b-%y')"
   ]
  },
  {
   "cell_type": "code",
   "execution_count": 482,
   "id": "a4608246",
   "metadata": {},
   "outputs": [
    {
     "data": {
      "text/html": [
       "<div>\n",
       "<style scoped>\n",
       "    .dataframe tbody tr th:only-of-type {\n",
       "        vertical-align: middle;\n",
       "    }\n",
       "\n",
       "    .dataframe tbody tr th {\n",
       "        vertical-align: top;\n",
       "    }\n",
       "\n",
       "    .dataframe thead th {\n",
       "        text-align: right;\n",
       "    }\n",
       "</style>\n",
       "<table border=\"1\" class=\"dataframe\">\n",
       "  <thead>\n",
       "    <tr style=\"text-align: right;\">\n",
       "      <th></th>\n",
       "      <th>Country</th>\n",
       "      <th>Channel</th>\n",
       "      <th>Month_Year</th>\n",
       "      <th>Successful</th>\n",
       "      <th>UnSuccessful</th>\n",
       "      <th>Total</th>\n",
       "      <th>Success Percentage</th>\n",
       "      <th>Achieved</th>\n",
       "      <th>Month</th>\n",
       "    </tr>\n",
       "  </thead>\n",
       "  <tbody>\n",
       "    <tr>\n",
       "      <th>0</th>\n",
       "      <td>HK</td>\n",
       "      <td>Internet</td>\n",
       "      <td>Dec-23</td>\n",
       "      <td>673480</td>\n",
       "      <td>16516</td>\n",
       "      <td>689996</td>\n",
       "      <td>90.90</td>\n",
       "      <td>missed</td>\n",
       "      <td>2023-12-01</td>\n",
       "    </tr>\n",
       "    <tr>\n",
       "      <th>1</th>\n",
       "      <td>HK</td>\n",
       "      <td>Internet</td>\n",
       "      <td>Jan-24</td>\n",
       "      <td>630152</td>\n",
       "      <td>17966</td>\n",
       "      <td>648118</td>\n",
       "      <td>95.80</td>\n",
       "      <td>missed</td>\n",
       "      <td>2024-01-01</td>\n",
       "    </tr>\n",
       "    <tr>\n",
       "      <th>2</th>\n",
       "      <td>HK</td>\n",
       "      <td>Internet</td>\n",
       "      <td>Feb-24</td>\n",
       "      <td>777223</td>\n",
       "      <td>18763</td>\n",
       "      <td>795986</td>\n",
       "      <td>99.87</td>\n",
       "      <td>achieved</td>\n",
       "      <td>2024-02-01</td>\n",
       "    </tr>\n",
       "    <tr>\n",
       "      <th>3</th>\n",
       "      <td>HK</td>\n",
       "      <td>Mobile</td>\n",
       "      <td>Dec-23</td>\n",
       "      <td>6751532</td>\n",
       "      <td>238105</td>\n",
       "      <td>6989637</td>\n",
       "      <td>99.90</td>\n",
       "      <td>achieved</td>\n",
       "      <td>2023-12-01</td>\n",
       "    </tr>\n",
       "    <tr>\n",
       "      <th>4</th>\n",
       "      <td>HK</td>\n",
       "      <td>Mobile</td>\n",
       "      <td>Jan-24</td>\n",
       "      <td>6063108</td>\n",
       "      <td>224842</td>\n",
       "      <td>6287950</td>\n",
       "      <td>99.87</td>\n",
       "      <td>achieved</td>\n",
       "      <td>2024-01-01</td>\n",
       "    </tr>\n",
       "    <tr>\n",
       "      <th>5</th>\n",
       "      <td>HK</td>\n",
       "      <td>Mobile</td>\n",
       "      <td>Feb-24</td>\n",
       "      <td>7002254</td>\n",
       "      <td>235435</td>\n",
       "      <td>7237689</td>\n",
       "      <td>99.99</td>\n",
       "      <td>achieved</td>\n",
       "      <td>2024-02-01</td>\n",
       "    </tr>\n",
       "  </tbody>\n",
       "</table>\n",
       "</div>"
      ],
      "text/plain": [
       "  Country   Channel Month_Year  Successful  UnSuccessful    Total  \\\n",
       "0      HK  Internet     Dec-23      673480         16516   689996   \n",
       "1      HK  Internet     Jan-24      630152         17966   648118   \n",
       "2      HK  Internet     Feb-24      777223         18763   795986   \n",
       "3      HK    Mobile     Dec-23     6751532        238105  6989637   \n",
       "4      HK    Mobile     Jan-24     6063108        224842  6287950   \n",
       "5      HK    Mobile     Feb-24     7002254        235435  7237689   \n",
       "\n",
       "   Success Percentage  Achieved      Month  \n",
       "0               90.90    missed 2023-12-01  \n",
       "1               95.80    missed 2024-01-01  \n",
       "2               99.87  achieved 2024-02-01  \n",
       "3               99.90  achieved 2023-12-01  \n",
       "4               99.87  achieved 2024-01-01  \n",
       "5               99.99  achieved 2024-02-01  "
      ]
     },
     "execution_count": 482,
     "metadata": {},
     "output_type": "execute_result"
    }
   ],
   "source": [
    "df_2"
   ]
  },
  {
   "cell_type": "code",
   "execution_count": null,
   "id": "702a7e11",
   "metadata": {},
   "outputs": [],
   "source": []
  },
  {
   "cell_type": "code",
   "execution_count": 484,
   "id": "74b7833e",
   "metadata": {},
   "outputs": [],
   "source": [
    "fh_args = {\n",
    "  '_by': ['Channel','Month','Month_Year','Achieved'],\n",
    "    '_sort':['Channel','-Month'] #Sorting based on Channel and Month (Descending Order)\n",
    "    \n",
    "}"
   ]
  },
  {
   "cell_type": "code",
   "execution_count": 485,
   "id": "0a2928c9",
   "metadata": {},
   "outputs": [],
   "source": [
    "xdf=gfilter(df_2,fh_args.copy())"
   ]
  },
  {
   "cell_type": "code",
   "execution_count": 486,
   "id": "f999d000",
   "metadata": {},
   "outputs": [
    {
     "data": {
      "text/html": [
       "<div>\n",
       "<style scoped>\n",
       "    .dataframe tbody tr th:only-of-type {\n",
       "        vertical-align: middle;\n",
       "    }\n",
       "\n",
       "    .dataframe tbody tr th {\n",
       "        vertical-align: top;\n",
       "    }\n",
       "\n",
       "    .dataframe thead th {\n",
       "        text-align: right;\n",
       "    }\n",
       "</style>\n",
       "<table border=\"1\" class=\"dataframe\">\n",
       "  <thead>\n",
       "    <tr style=\"text-align: right;\">\n",
       "      <th></th>\n",
       "      <th>Channel</th>\n",
       "      <th>Month</th>\n",
       "      <th>Month_Year</th>\n",
       "      <th>Achieved</th>\n",
       "      <th>Successful|sum</th>\n",
       "      <th>UnSuccessful|sum</th>\n",
       "      <th>Total|sum</th>\n",
       "      <th>Success Percentage|sum</th>\n",
       "    </tr>\n",
       "  </thead>\n",
       "  <tbody>\n",
       "    <tr>\n",
       "      <th>2</th>\n",
       "      <td>Internet</td>\n",
       "      <td>2024-02-01</td>\n",
       "      <td>Feb-24</td>\n",
       "      <td>achieved</td>\n",
       "      <td>777223</td>\n",
       "      <td>18763</td>\n",
       "      <td>795986</td>\n",
       "      <td>99.87</td>\n",
       "    </tr>\n",
       "    <tr>\n",
       "      <th>1</th>\n",
       "      <td>Internet</td>\n",
       "      <td>2024-01-01</td>\n",
       "      <td>Jan-24</td>\n",
       "      <td>missed</td>\n",
       "      <td>630152</td>\n",
       "      <td>17966</td>\n",
       "      <td>648118</td>\n",
       "      <td>95.80</td>\n",
       "    </tr>\n",
       "    <tr>\n",
       "      <th>0</th>\n",
       "      <td>Internet</td>\n",
       "      <td>2023-12-01</td>\n",
       "      <td>Dec-23</td>\n",
       "      <td>missed</td>\n",
       "      <td>673480</td>\n",
       "      <td>16516</td>\n",
       "      <td>689996</td>\n",
       "      <td>90.90</td>\n",
       "    </tr>\n",
       "    <tr>\n",
       "      <th>5</th>\n",
       "      <td>Mobile</td>\n",
       "      <td>2024-02-01</td>\n",
       "      <td>Feb-24</td>\n",
       "      <td>achieved</td>\n",
       "      <td>7002254</td>\n",
       "      <td>235435</td>\n",
       "      <td>7237689</td>\n",
       "      <td>99.99</td>\n",
       "    </tr>\n",
       "    <tr>\n",
       "      <th>4</th>\n",
       "      <td>Mobile</td>\n",
       "      <td>2024-01-01</td>\n",
       "      <td>Jan-24</td>\n",
       "      <td>achieved</td>\n",
       "      <td>6063108</td>\n",
       "      <td>224842</td>\n",
       "      <td>6287950</td>\n",
       "      <td>99.87</td>\n",
       "    </tr>\n",
       "    <tr>\n",
       "      <th>3</th>\n",
       "      <td>Mobile</td>\n",
       "      <td>2023-12-01</td>\n",
       "      <td>Dec-23</td>\n",
       "      <td>achieved</td>\n",
       "      <td>6751532</td>\n",
       "      <td>238105</td>\n",
       "      <td>6989637</td>\n",
       "      <td>99.90</td>\n",
       "    </tr>\n",
       "  </tbody>\n",
       "</table>\n",
       "</div>"
      ],
      "text/plain": [
       "    Channel      Month Month_Year  Achieved  Successful|sum  UnSuccessful|sum  \\\n",
       "2  Internet 2024-02-01     Feb-24  achieved          777223             18763   \n",
       "1  Internet 2024-01-01     Jan-24    missed          630152             17966   \n",
       "0  Internet 2023-12-01     Dec-23    missed          673480             16516   \n",
       "5    Mobile 2024-02-01     Feb-24  achieved         7002254            235435   \n",
       "4    Mobile 2024-01-01     Jan-24  achieved         6063108            224842   \n",
       "3    Mobile 2023-12-01     Dec-23  achieved         6751532            238105   \n",
       "\n",
       "   Total|sum  Success Percentage|sum  \n",
       "2     795986                   99.87  \n",
       "1     648118                   95.80  \n",
       "0     689996                   90.90  \n",
       "5    7237689                   99.99  \n",
       "4    6287950                   99.87  \n",
       "3    6989637                   99.90  "
      ]
     },
     "execution_count": 486,
     "metadata": {},
     "output_type": "execute_result"
    }
   ],
   "source": [
    "xdf"
   ]
  },
  {
   "cell_type": "code",
   "execution_count": 487,
   "id": "18fc7e43",
   "metadata": {},
   "outputs": [],
   "source": [
    "nlp=load_spacy_model()"
   ]
  },
  {
   "cell_type": "code",
   "execution_count": 488,
   "id": "26742d41",
   "metadata": {},
   "outputs": [
    {
     "name": "stderr",
     "output_type": "stream",
     "text": [
      "C:\\Users\\gbala\\anaconda3\\envs\\temp_ai\\lib\\site-packages\\nlg\\search.py:65: UserWarning: Ignoring lemmatization.\n",
      "  warnings.warn('Ignoring lemmatization.')\n",
      "C:\\Users\\gbala\\anaconda3\\envs\\temp_ai\\lib\\site-packages\\nlg\\search.py:87: UserWarning: Cannot lemmatize multi-word cells.\n",
      "  warnings.warn('Cannot lemmatize multi-word cells.')\n"
     ]
    }
   ],
   "source": [
    "text=nlp(\"Feb-24 Month target is Achieved for Mobile Channel\")\n",
    "nugget=templatize(text,fh_args,df_2)"
   ]
  },
  {
   "cell_type": "code",
   "execution_count": 489,
   "id": "47b5cc6a",
   "metadata": {},
   "outputs": [
    {
     "data": {
      "text/plain": [
       "{% set fh_args = {\"_by\": [\"Channel\", \"Month\", \"Month_Year\", \"Achieved\"], \"_sort\": [\"Channel\", \"-Month\"]}  %}\n",
       "{% set df = U.gfilter(orgdf, fh_args.copy()) %}\n",
       "{% set fh_args = U.sanitize_fh_args(fh_args, orgdf) %}\n",
       "{# Do not edit above this line. #}\n",
       "{{ df[\"Month_Year\"].iloc[3] }} {{ df.columns[1] }} target is {{ fh_args['_by'][3] }} for {{ df[\"Channel\"].iloc[-1] }} {{ df.columns[0] }}"
      ]
     },
     "execution_count": 489,
     "metadata": {},
     "output_type": "execute_result"
    }
   ],
   "source": [
    "nugget"
   ]
  },
  {
   "cell_type": "code",
   "execution_count": null,
   "id": "0b93a4c6",
   "metadata": {},
   "outputs": [],
   "source": []
  },
  {
   "cell_type": "code",
   "execution_count": 493,
   "id": "d3222e54",
   "metadata": {},
   "outputs": [
    {
     "name": "stdout",
     "output_type": "stream",
     "text": [
      "b'    Feb-24 Month target is Achieved for Mobile Channel'\n"
     ]
    }
   ],
   "source": [
    "print(nugget.render(df_2))"
   ]
  },
  {
   "cell_type": "code",
   "execution_count": 494,
   "id": "57ab3d49",
   "metadata": {},
   "outputs": [
    {
     "data": {
      "text/plain": [
       "{Month: {{ df.columns[1] }},\n",
       " Channel: {{ df.columns[0] }},\n",
       " Mobile: {{ df[\"Channel\"].iloc[-1] }},\n",
       " Achieved: {{ fh_args['_by'][3] }},\n",
       " Feb-24: {{ df[\"Month_Year\"].iloc[3] }}}"
      ]
     },
     "execution_count": 494,
     "metadata": {},
     "output_type": "execute_result"
    }
   ],
   "source": [
    "nugget.variables"
   ]
  },
  {
   "cell_type": "code",
   "execution_count": 495,
   "id": "6b47ae78",
   "metadata": {},
   "outputs": [
    {
     "data": {
      "text/plain": [
       "{{ df[\"Month_Year\"].iloc[0] }}"
      ]
     },
     "execution_count": 495,
     "metadata": {},
     "output_type": "execute_result"
    }
   ],
   "source": [
    "#Modifying Variables for correct format\n",
    "var=nugget.get_var(\"Feb-24\")\n",
    "var.set_expr('df[\"Month_Year\"].iloc[0]')\n",
    "var\n"
   ]
  },
  {
   "cell_type": "code",
   "execution_count": 496,
   "id": "b5695cb9",
   "metadata": {},
   "outputs": [],
   "source": [
    "#Modified achieved column for correct format\n",
    "var_token = text[-4]\n",
    "nugget.add_var(var_token, expr='df[df[\"Channel\"]==\"Mobile\"][\"Achieved\"].iloc[0]')"
   ]
  },
  {
   "cell_type": "code",
   "execution_count": null,
   "id": "79b66581",
   "metadata": {},
   "outputs": [],
   "source": []
  },
  {
   "cell_type": "code",
   "execution_count": 497,
   "id": "153ba1df",
   "metadata": {},
   "outputs": [
    {
     "data": {
      "text/plain": [
       "{Month: {{ df.columns[1] }},\n",
       " Channel: {{ df.columns[0] }},\n",
       " Mobile: {{ df[\"Channel\"].iloc[-1] }},\n",
       " Achieved: {{ df[df[\"Channel\"]==\"Mobile\"][\"Achieved\"].iloc[0] }},\n",
       " Feb-24: {{ df[\"Month_Year\"].iloc[0] }}}"
      ]
     },
     "execution_count": 497,
     "metadata": {},
     "output_type": "execute_result"
    }
   ],
   "source": [
    "nugget.variables"
   ]
  },
  {
   "cell_type": "code",
   "execution_count": 498,
   "id": "25992244",
   "metadata": {},
   "outputs": [
    {
     "name": "stdout",
     "output_type": "stream",
     "text": [
      "b'    Feb-24 Month target is achieved for Mobile Channel'\n"
     ]
    }
   ],
   "source": [
    "print(nugget.render(df_2))"
   ]
  },
  {
   "cell_type": "code",
   "execution_count": 499,
   "id": "01bfcc29",
   "metadata": {},
   "outputs": [],
   "source": [
    "text=nlp(\"Feb-24 Month target is Achieved for Mobile Channel\")"
   ]
  },
  {
   "cell_type": "code",
   "execution_count": null,
   "id": "d99ae0c6",
   "metadata": {},
   "outputs": [],
   "source": [
    "######################### Testing ###################"
   ]
  },
  {
   "cell_type": "code",
   "execution_count": 509,
   "id": "e0b03eb0",
   "metadata": {},
   "outputs": [],
   "source": [
    "df_2=pd.read_csv(\"dummy.csv\")"
   ]
  },
  {
   "cell_type": "code",
   "execution_count": 510,
   "id": "40280dcc",
   "metadata": {},
   "outputs": [
    {
     "data": {
      "text/html": [
       "<div>\n",
       "<style scoped>\n",
       "    .dataframe tbody tr th:only-of-type {\n",
       "        vertical-align: middle;\n",
       "    }\n",
       "\n",
       "    .dataframe tbody tr th {\n",
       "        vertical-align: top;\n",
       "    }\n",
       "\n",
       "    .dataframe thead th {\n",
       "        text-align: right;\n",
       "    }\n",
       "</style>\n",
       "<table border=\"1\" class=\"dataframe\">\n",
       "  <thead>\n",
       "    <tr style=\"text-align: right;\">\n",
       "      <th></th>\n",
       "      <th>Country</th>\n",
       "      <th>Channel</th>\n",
       "      <th>Month_Year</th>\n",
       "      <th>Successful</th>\n",
       "      <th>UnSuccessful</th>\n",
       "      <th>Total</th>\n",
       "      <th>Success Percentage</th>\n",
       "    </tr>\n",
       "  </thead>\n",
       "  <tbody>\n",
       "    <tr>\n",
       "      <th>0</th>\n",
       "      <td>HK</td>\n",
       "      <td>Internet</td>\n",
       "      <td>Dec-23</td>\n",
       "      <td>673480</td>\n",
       "      <td>16516</td>\n",
       "      <td>689996</td>\n",
       "      <td>90.90</td>\n",
       "    </tr>\n",
       "    <tr>\n",
       "      <th>1</th>\n",
       "      <td>HK</td>\n",
       "      <td>Internet</td>\n",
       "      <td>Jan-24</td>\n",
       "      <td>630152</td>\n",
       "      <td>17966</td>\n",
       "      <td>648118</td>\n",
       "      <td>95.80</td>\n",
       "    </tr>\n",
       "    <tr>\n",
       "      <th>2</th>\n",
       "      <td>HK</td>\n",
       "      <td>Internet</td>\n",
       "      <td>Feb-24</td>\n",
       "      <td>777223</td>\n",
       "      <td>18763</td>\n",
       "      <td>795986</td>\n",
       "      <td>99.87</td>\n",
       "    </tr>\n",
       "    <tr>\n",
       "      <th>3</th>\n",
       "      <td>HK</td>\n",
       "      <td>Mobile</td>\n",
       "      <td>Dec-23</td>\n",
       "      <td>6751532</td>\n",
       "      <td>238105</td>\n",
       "      <td>6989637</td>\n",
       "      <td>99.90</td>\n",
       "    </tr>\n",
       "    <tr>\n",
       "      <th>4</th>\n",
       "      <td>HK</td>\n",
       "      <td>Mobile</td>\n",
       "      <td>Jan-24</td>\n",
       "      <td>6063108</td>\n",
       "      <td>224842</td>\n",
       "      <td>6287950</td>\n",
       "      <td>99.87</td>\n",
       "    </tr>\n",
       "    <tr>\n",
       "      <th>5</th>\n",
       "      <td>HK</td>\n",
       "      <td>Mobile</td>\n",
       "      <td>Feb-24</td>\n",
       "      <td>7002254</td>\n",
       "      <td>235435</td>\n",
       "      <td>7237689</td>\n",
       "      <td>99.99</td>\n",
       "    </tr>\n",
       "  </tbody>\n",
       "</table>\n",
       "</div>"
      ],
      "text/plain": [
       "  Country   Channel Month_Year  Successful  UnSuccessful    Total  \\\n",
       "0      HK  Internet     Dec-23      673480         16516   689996   \n",
       "1      HK  Internet     Jan-24      630152         17966   648118   \n",
       "2      HK  Internet     Feb-24      777223         18763   795986   \n",
       "3      HK    Mobile     Dec-23     6751532        238105  6989637   \n",
       "4      HK    Mobile     Jan-24     6063108        224842  6287950   \n",
       "5      HK    Mobile     Feb-24     7002254        235435  7237689   \n",
       "\n",
       "   Success Percentage  \n",
       "0               90.90  \n",
       "1               95.80  \n",
       "2               99.87  \n",
       "3               99.90  \n",
       "4               99.87  \n",
       "5               99.99  "
      ]
     },
     "execution_count": 510,
     "metadata": {},
     "output_type": "execute_result"
    }
   ],
   "source": [
    "#Let decrease success percentage for Mobile Channel and month feb-24 and test \n",
    "df_2"
   ]
  },
  {
   "cell_type": "code",
   "execution_count": 511,
   "id": "82929b9c",
   "metadata": {},
   "outputs": [
    {
     "name": "stderr",
     "output_type": "stream",
     "text": [
      "C:\\Users\\gbala\\anaconda3\\envs\\temp_ai\\lib\\site-packages\\pandas\\core\\indexing.py:1732: SettingWithCopyWarning: \n",
      "A value is trying to be set on a copy of a slice from a DataFrame\n",
      "\n",
      "See the caveats in the documentation: https://pandas.pydata.org/pandas-docs/stable/user_guide/indexing.html#returning-a-view-versus-a-copy\n",
      "  self._setitem_single_block(indexer, value, name)\n"
     ]
    },
    {
     "data": {
      "text/html": [
       "<div>\n",
       "<style scoped>\n",
       "    .dataframe tbody tr th:only-of-type {\n",
       "        vertical-align: middle;\n",
       "    }\n",
       "\n",
       "    .dataframe tbody tr th {\n",
       "        vertical-align: top;\n",
       "    }\n",
       "\n",
       "    .dataframe thead th {\n",
       "        text-align: right;\n",
       "    }\n",
       "</style>\n",
       "<table border=\"1\" class=\"dataframe\">\n",
       "  <thead>\n",
       "    <tr style=\"text-align: right;\">\n",
       "      <th></th>\n",
       "      <th>Country</th>\n",
       "      <th>Channel</th>\n",
       "      <th>Month_Year</th>\n",
       "      <th>Successful</th>\n",
       "      <th>UnSuccessful</th>\n",
       "      <th>Total</th>\n",
       "      <th>Success Percentage</th>\n",
       "    </tr>\n",
       "  </thead>\n",
       "  <tbody>\n",
       "    <tr>\n",
       "      <th>0</th>\n",
       "      <td>HK</td>\n",
       "      <td>Internet</td>\n",
       "      <td>Dec-23</td>\n",
       "      <td>673480</td>\n",
       "      <td>16516</td>\n",
       "      <td>689996</td>\n",
       "      <td>90.90</td>\n",
       "    </tr>\n",
       "    <tr>\n",
       "      <th>1</th>\n",
       "      <td>HK</td>\n",
       "      <td>Internet</td>\n",
       "      <td>Jan-24</td>\n",
       "      <td>630152</td>\n",
       "      <td>17966</td>\n",
       "      <td>648118</td>\n",
       "      <td>95.80</td>\n",
       "    </tr>\n",
       "    <tr>\n",
       "      <th>2</th>\n",
       "      <td>HK</td>\n",
       "      <td>Internet</td>\n",
       "      <td>Feb-24</td>\n",
       "      <td>777223</td>\n",
       "      <td>18763</td>\n",
       "      <td>795986</td>\n",
       "      <td>99.87</td>\n",
       "    </tr>\n",
       "    <tr>\n",
       "      <th>3</th>\n",
       "      <td>HK</td>\n",
       "      <td>Mobile</td>\n",
       "      <td>Dec-23</td>\n",
       "      <td>6751532</td>\n",
       "      <td>238105</td>\n",
       "      <td>6989637</td>\n",
       "      <td>99.90</td>\n",
       "    </tr>\n",
       "    <tr>\n",
       "      <th>4</th>\n",
       "      <td>HK</td>\n",
       "      <td>Mobile</td>\n",
       "      <td>Jan-24</td>\n",
       "      <td>6063108</td>\n",
       "      <td>224842</td>\n",
       "      <td>6287950</td>\n",
       "      <td>99.87</td>\n",
       "    </tr>\n",
       "    <tr>\n",
       "      <th>5</th>\n",
       "      <td>HK</td>\n",
       "      <td>Mobile</td>\n",
       "      <td>Feb-24</td>\n",
       "      <td>7002254</td>\n",
       "      <td>235435</td>\n",
       "      <td>7237689</td>\n",
       "      <td>90.00</td>\n",
       "    </tr>\n",
       "  </tbody>\n",
       "</table>\n",
       "</div>"
      ],
      "text/plain": [
       "  Country   Channel Month_Year  Successful  UnSuccessful    Total  \\\n",
       "0      HK  Internet     Dec-23      673480         16516   689996   \n",
       "1      HK  Internet     Jan-24      630152         17966   648118   \n",
       "2      HK  Internet     Feb-24      777223         18763   795986   \n",
       "3      HK    Mobile     Dec-23     6751532        238105  6989637   \n",
       "4      HK    Mobile     Jan-24     6063108        224842  6287950   \n",
       "5      HK    Mobile     Feb-24     7002254        235435  7237689   \n",
       "\n",
       "   Success Percentage  \n",
       "0               90.90  \n",
       "1               95.80  \n",
       "2               99.87  \n",
       "3               99.90  \n",
       "4               99.87  \n",
       "5               90.00  "
      ]
     },
     "execution_count": 511,
     "metadata": {},
     "output_type": "execute_result"
    }
   ],
   "source": [
    "df_2['Success Percentage'].iloc[5]=90\n",
    "df_2"
   ]
  },
  {
   "cell_type": "code",
   "execution_count": 512,
   "id": "bb87da0e",
   "metadata": {},
   "outputs": [],
   "source": [
    "df_2['Achieved'] = df_2['Success Percentage'].apply(lambda x: \"achieved\" if x > 99.6 else \"missed\")\n",
    "df_2['Month'] = pd.to_datetime(df_2['Month_Year'], format='%b-%y')"
   ]
  },
  {
   "cell_type": "code",
   "execution_count": 513,
   "id": "4eb74577",
   "metadata": {},
   "outputs": [
    {
     "name": "stdout",
     "output_type": "stream",
     "text": [
      "b'    Feb-24 Month target is missed for Mobile Channel'\n"
     ]
    }
   ],
   "source": [
    "print(nugget.render(df_2))"
   ]
  },
  {
   "cell_type": "code",
   "execution_count": null,
   "id": "e853228f",
   "metadata": {},
   "outputs": [],
   "source": []
  }
 ],
 "metadata": {
  "kernelspec": {
   "display_name": "Python 3 (ipykernel)",
   "language": "python",
   "name": "python3"
  },
  "language_info": {
   "codemirror_mode": {
    "name": "ipython",
    "version": 3
   },
   "file_extension": ".py",
   "mimetype": "text/x-python",
   "name": "python",
   "nbconvert_exporter": "python",
   "pygments_lexer": "ipython3",
   "version": "3.7.4"
  }
 },
 "nbformat": 4,
 "nbformat_minor": 5
}

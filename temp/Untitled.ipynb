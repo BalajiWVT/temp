{
 "cells": [
  {
   "cell_type": "code",
   "execution_count": 1,
   "id": "1ba00798",
   "metadata": {},
   "outputs": [],
   "source": [
    "import nlg"
   ]
  },
  {
   "cell_type": "code",
   "execution_count": null,
   "id": "205dbd44",
   "metadata": {},
   "outputs": [],
   "source": [
    "pip install spacy==2.0.13"
   ]
  },
  {
   "cell_type": "code",
   "execution_count": 2,
   "id": "b56b69fb",
   "metadata": {},
   "outputs": [
    {
     "data": {
      "text/plain": [
       "'3.7.4'"
      ]
     },
     "execution_count": 2,
     "metadata": {},
     "output_type": "execute_result"
    }
   ],
   "source": [
    "import spacy\n",
    "spacy.__version__"
   ]
  },
  {
   "cell_type": "code",
   "execution_count": null,
   "id": "494c29f1",
   "metadata": {},
   "outputs": [],
   "source": [
    "!pip install inflect"
   ]
  },
  {
   "cell_type": "code",
   "execution_count": null,
   "id": "e3942276",
   "metadata": {},
   "outputs": [],
   "source": [
    "######## Restart Kernal if needed ##########"
   ]
  },
  {
   "cell_type": "code",
   "execution_count": null,
   "id": "5e30aa20",
   "metadata": {},
   "outputs": [],
   "source": [
    "!python -m spacy download en_core_web_sm"
   ]
  },
  {
   "cell_type": "code",
   "execution_count": 3,
   "id": "5e2f3409",
   "metadata": {},
   "outputs": [],
   "source": [
    "from nlg.utils import load_spacy_model"
   ]
  },
  {
   "cell_type": "code",
   "execution_count": 4,
   "id": "44c80b87",
   "metadata": {},
   "outputs": [],
   "source": [
    "from nlg import grammar"
   ]
  },
  {
   "cell_type": "code",
   "execution_count": 5,
   "id": "5e06f33c",
   "metadata": {},
   "outputs": [],
   "source": [
    "from nlg.search import templatize"
   ]
  },
  {
   "cell_type": "code",
   "execution_count": 6,
   "id": "32ed4ebd",
   "metadata": {},
   "outputs": [],
   "source": [
    "import pandas as pd"
   ]
  },
  {
   "cell_type": "code",
   "execution_count": 7,
   "id": "937e2cd1",
   "metadata": {},
   "outputs": [],
   "source": [
    "df=pd.read_csv(\"actors.csv\")"
   ]
  },
  {
   "cell_type": "code",
   "execution_count": 21,
   "id": "d191dac2",
   "metadata": {},
   "outputs": [
    {
     "data": {
      "text/html": [
       "<div>\n",
       "<style scoped>\n",
       "    .dataframe tbody tr th:only-of-type {\n",
       "        vertical-align: middle;\n",
       "    }\n",
       "\n",
       "    .dataframe tbody tr th {\n",
       "        vertical-align: top;\n",
       "    }\n",
       "\n",
       "    .dataframe thead th {\n",
       "        text-align: right;\n",
       "    }\n",
       "</style>\n",
       "<table border=\"1\" class=\"dataframe\">\n",
       "  <thead>\n",
       "    <tr style=\"text-align: right;\">\n",
       "      <th></th>\n",
       "      <th>Category</th>\n",
       "      <th>name</th>\n",
       "      <th>rating</th>\n",
       "      <th>votes</th>\n",
       "    </tr>\n",
       "  </thead>\n",
       "  <tbody>\n",
       "    <tr>\n",
       "      <th>0</th>\n",
       "      <td>Actors</td>\n",
       "      <td>Humphery</td>\n",
       "      <td>0.570197</td>\n",
       "      <td>109</td>\n",
       "    </tr>\n",
       "    <tr>\n",
       "      <th>1</th>\n",
       "      <td>Actors</td>\n",
       "      <td>Cary</td>\n",
       "      <td>0.998602</td>\n",
       "      <td>142</td>\n",
       "    </tr>\n",
       "    <tr>\n",
       "      <th>2</th>\n",
       "      <td>Actors</td>\n",
       "      <td>Grant</td>\n",
       "      <td>0.600000</td>\n",
       "      <td>120</td>\n",
       "    </tr>\n",
       "    <tr>\n",
       "      <th>3</th>\n",
       "      <td>Actors</td>\n",
       "      <td>James</td>\n",
       "      <td>0.988370</td>\n",
       "      <td>108</td>\n",
       "    </tr>\n",
       "    <tr>\n",
       "      <th>4</th>\n",
       "      <td>Actresses</td>\n",
       "      <td>Bette</td>\n",
       "      <td>0.500000</td>\n",
       "      <td>86</td>\n",
       "    </tr>\n",
       "    <tr>\n",
       "      <th>5</th>\n",
       "      <td>Actresses</td>\n",
       "      <td>Ingrid</td>\n",
       "      <td>0.400000</td>\n",
       "      <td>63</td>\n",
       "    </tr>\n",
       "  </tbody>\n",
       "</table>\n",
       "</div>"
      ],
      "text/plain": [
       "    Category      name    rating  votes\n",
       "0     Actors  Humphery  0.570197    109\n",
       "1     Actors      Cary  0.998602    142\n",
       "2     Actors     Grant  0.600000    120\n",
       "3     Actors     James  0.988370    108\n",
       "4  Actresses     Bette  0.500000     86\n",
       "5  Actresses    Ingrid  0.400000     63"
      ]
     },
     "execution_count": 21,
     "metadata": {},
     "output_type": "execute_result"
    }
   ],
   "source": [
    "df"
   ]
  },
  {
   "cell_type": "code",
   "execution_count": 9,
   "id": "99145497",
   "metadata": {},
   "outputs": [],
   "source": [
    "from gramex.data import filter as gfilter\n",
    "sort_args={'_sort':['-rating']}\n",
    "xdf=gfilter(df,sort_args.copy())"
   ]
  },
  {
   "cell_type": "code",
   "execution_count": 10,
   "id": "9c65fc7e",
   "metadata": {},
   "outputs": [
    {
     "data": {
      "text/html": [
       "<div>\n",
       "<style scoped>\n",
       "    .dataframe tbody tr th:only-of-type {\n",
       "        vertical-align: middle;\n",
       "    }\n",
       "\n",
       "    .dataframe tbody tr th {\n",
       "        vertical-align: top;\n",
       "    }\n",
       "\n",
       "    .dataframe thead th {\n",
       "        text-align: right;\n",
       "    }\n",
       "</style>\n",
       "<table border=\"1\" class=\"dataframe\">\n",
       "  <thead>\n",
       "    <tr style=\"text-align: right;\">\n",
       "      <th></th>\n",
       "      <th>Category</th>\n",
       "      <th>name</th>\n",
       "      <th>rating</th>\n",
       "      <th>votes</th>\n",
       "    </tr>\n",
       "  </thead>\n",
       "  <tbody>\n",
       "    <tr>\n",
       "      <th>1</th>\n",
       "      <td>Actors</td>\n",
       "      <td>Cary</td>\n",
       "      <td>0.998602</td>\n",
       "      <td>142</td>\n",
       "    </tr>\n",
       "    <tr>\n",
       "      <th>3</th>\n",
       "      <td>Actors</td>\n",
       "      <td>James</td>\n",
       "      <td>0.988370</td>\n",
       "      <td>108</td>\n",
       "    </tr>\n",
       "    <tr>\n",
       "      <th>2</th>\n",
       "      <td>Actors</td>\n",
       "      <td>Grant</td>\n",
       "      <td>0.600000</td>\n",
       "      <td>120</td>\n",
       "    </tr>\n",
       "    <tr>\n",
       "      <th>0</th>\n",
       "      <td>Actors</td>\n",
       "      <td>Humphery</td>\n",
       "      <td>0.570197</td>\n",
       "      <td>109</td>\n",
       "    </tr>\n",
       "    <tr>\n",
       "      <th>4</th>\n",
       "      <td>Actresses</td>\n",
       "      <td>Bette</td>\n",
       "      <td>0.500000</td>\n",
       "      <td>86</td>\n",
       "    </tr>\n",
       "    <tr>\n",
       "      <th>5</th>\n",
       "      <td>Actresses</td>\n",
       "      <td>Ingrid</td>\n",
       "      <td>0.400000</td>\n",
       "      <td>63</td>\n",
       "    </tr>\n",
       "  </tbody>\n",
       "</table>\n",
       "</div>"
      ],
      "text/plain": [
       "    Category      name    rating  votes\n",
       "1     Actors      Cary  0.998602    142\n",
       "3     Actors     James  0.988370    108\n",
       "2     Actors     Grant  0.600000    120\n",
       "0     Actors  Humphery  0.570197    109\n",
       "4  Actresses     Bette  0.500000     86\n",
       "5  Actresses    Ingrid  0.400000     63"
      ]
     },
     "execution_count": 10,
     "metadata": {},
     "output_type": "execute_result"
    }
   ],
   "source": [
    "xdf"
   ]
  },
  {
   "cell_type": "code",
   "execution_count": 11,
   "id": "8cce2572",
   "metadata": {},
   "outputs": [],
   "source": [
    "nlp=load_spacy_model()"
   ]
  },
  {
   "cell_type": "code",
   "execution_count": null,
   "id": "d59931a3",
   "metadata": {},
   "outputs": [],
   "source": [
    "text=nlp(\"James is the actor with the highest rating.\")\n",
    "nugget=templatize(text,sort_args,df)"
   ]
  },
  {
   "cell_type": "code",
   "execution_count": 13,
   "id": "6de5b8df",
   "metadata": {},
   "outputs": [
    {
     "data": {
      "text/plain": [
       "{% set fh_args = {\"_sort\": [\"-rating\"]}  %}\n",
       "{% set df = U.gfilter(orgdf, fh_args.copy()) %}\n",
       "{% set fh_args = U.sanitize_fh_args(fh_args, orgdf) %}\n",
       "{# Do not edit above this line. #}\n",
       "{{ df[\"name\"].iloc[1] }} is the {{ G.singular(df[\"Category\"].iloc[3]).lower() }} with the highest {{ df.columns[2] }}."
      ]
     },
     "execution_count": 13,
     "metadata": {},
     "output_type": "execute_result"
    }
   ],
   "source": [
    "nugget"
   ]
  },
  {
   "cell_type": "code",
   "execution_count": 14,
   "id": "64402a2d",
   "metadata": {},
   "outputs": [
    {
     "name": "stdout",
     "output_type": "stream",
     "text": [
      "b'    James is the actor with the highest rating.'\n"
     ]
    }
   ],
   "source": [
    "print(nugget.render(df))"
   ]
  },
  {
   "cell_type": "code",
   "execution_count": 15,
   "id": "47540e8a",
   "metadata": {},
   "outputs": [
    {
     "data": {
      "text/plain": [
       "'Cary'"
      ]
     },
     "execution_count": 15,
     "metadata": {},
     "output_type": "execute_result"
    }
   ],
   "source": [
    "df[\"name\"].iloc[1]"
   ]
  },
  {
   "cell_type": "code",
   "execution_count": 16,
   "id": "b50d7917",
   "metadata": {},
   "outputs": [
    {
     "data": {
      "text/plain": [
       "'Actors'"
      ]
     },
     "execution_count": 16,
     "metadata": {},
     "output_type": "execute_result"
    }
   ],
   "source": [
    "df[\"Category\"].iloc[3]"
   ]
  },
  {
   "cell_type": "code",
   "execution_count": 17,
   "id": "522980b2",
   "metadata": {},
   "outputs": [
    {
     "data": {
      "text/plain": [
       "'rating'"
      ]
     },
     "execution_count": 17,
     "metadata": {},
     "output_type": "execute_result"
    }
   ],
   "source": [
    "df.columns[2] "
   ]
  },
  {
   "cell_type": "code",
   "execution_count": 20,
   "id": "6125bb0c",
   "metadata": {},
   "outputs": [
    {
     "data": {
      "text/html": [
       "<div>\n",
       "<style scoped>\n",
       "    .dataframe tbody tr th:only-of-type {\n",
       "        vertical-align: middle;\n",
       "    }\n",
       "\n",
       "    .dataframe tbody tr th {\n",
       "        vertical-align: top;\n",
       "    }\n",
       "\n",
       "    .dataframe thead th {\n",
       "        text-align: right;\n",
       "    }\n",
       "</style>\n",
       "<table border=\"1\" class=\"dataframe\">\n",
       "  <thead>\n",
       "    <tr style=\"text-align: right;\">\n",
       "      <th></th>\n",
       "      <th>Category</th>\n",
       "      <th>name</th>\n",
       "      <th>rating</th>\n",
       "      <th>votes</th>\n",
       "    </tr>\n",
       "  </thead>\n",
       "  <tbody>\n",
       "    <tr>\n",
       "      <th>0</th>\n",
       "      <td>Actors</td>\n",
       "      <td>Humphery</td>\n",
       "      <td>0.570197</td>\n",
       "      <td>109</td>\n",
       "    </tr>\n",
       "    <tr>\n",
       "      <th>1</th>\n",
       "      <td>Actors</td>\n",
       "      <td>Cary</td>\n",
       "      <td>0.998602</td>\n",
       "      <td>142</td>\n",
       "    </tr>\n",
       "    <tr>\n",
       "      <th>2</th>\n",
       "      <td>Actors</td>\n",
       "      <td>Grant</td>\n",
       "      <td>0.600000</td>\n",
       "      <td>120</td>\n",
       "    </tr>\n",
       "    <tr>\n",
       "      <th>3</th>\n",
       "      <td>Actors</td>\n",
       "      <td>James</td>\n",
       "      <td>0.988370</td>\n",
       "      <td>108</td>\n",
       "    </tr>\n",
       "    <tr>\n",
       "      <th>4</th>\n",
       "      <td>Actresses</td>\n",
       "      <td>Bette</td>\n",
       "      <td>0.500000</td>\n",
       "      <td>86</td>\n",
       "    </tr>\n",
       "    <tr>\n",
       "      <th>5</th>\n",
       "      <td>Actresses</td>\n",
       "      <td>Ingrid</td>\n",
       "      <td>0.400000</td>\n",
       "      <td>63</td>\n",
       "    </tr>\n",
       "  </tbody>\n",
       "</table>\n",
       "</div>"
      ],
      "text/plain": [
       "    Category      name    rating  votes\n",
       "0     Actors  Humphery  0.570197    109\n",
       "1     Actors      Cary  0.998602    142\n",
       "2     Actors     Grant  0.600000    120\n",
       "3     Actors     James  0.988370    108\n",
       "4  Actresses     Bette  0.500000     86\n",
       "5  Actresses    Ingrid  0.400000     63"
      ]
     },
     "execution_count": 20,
     "metadata": {},
     "output_type": "execute_result"
    }
   ],
   "source": [
    "df"
   ]
  },
  {
   "cell_type": "code",
   "execution_count": 22,
   "id": "3fc8d4ed",
   "metadata": {},
   "outputs": [],
   "source": [
    "import numpy as np\n",
    "np.random.seed(12345)\n",
    "\n",
    "fake_ratings = df.copy()\n",
    "fake_ratings['rating'] = np.random.rand(df.shape[0])"
   ]
  },
  {
   "cell_type": "code",
   "execution_count": 23,
   "id": "e1177f59",
   "metadata": {},
   "outputs": [
    {
     "data": {
      "text/html": [
       "<div>\n",
       "<style scoped>\n",
       "    .dataframe tbody tr th:only-of-type {\n",
       "        vertical-align: middle;\n",
       "    }\n",
       "\n",
       "    .dataframe tbody tr th {\n",
       "        vertical-align: top;\n",
       "    }\n",
       "\n",
       "    .dataframe thead th {\n",
       "        text-align: right;\n",
       "    }\n",
       "</style>\n",
       "<table border=\"1\" class=\"dataframe\">\n",
       "  <thead>\n",
       "    <tr style=\"text-align: right;\">\n",
       "      <th></th>\n",
       "      <th>Category</th>\n",
       "      <th>name</th>\n",
       "      <th>rating</th>\n",
       "      <th>votes</th>\n",
       "    </tr>\n",
       "  </thead>\n",
       "  <tbody>\n",
       "    <tr>\n",
       "      <th>0</th>\n",
       "      <td>Actors</td>\n",
       "      <td>Humphery</td>\n",
       "      <td>0.929616</td>\n",
       "      <td>109</td>\n",
       "    </tr>\n",
       "    <tr>\n",
       "      <th>5</th>\n",
       "      <td>Actresses</td>\n",
       "      <td>Ingrid</td>\n",
       "      <td>0.595545</td>\n",
       "      <td>63</td>\n",
       "    </tr>\n",
       "    <tr>\n",
       "      <th>4</th>\n",
       "      <td>Actresses</td>\n",
       "      <td>Bette</td>\n",
       "      <td>0.567725</td>\n",
       "      <td>86</td>\n",
       "    </tr>\n",
       "    <tr>\n",
       "      <th>1</th>\n",
       "      <td>Actors</td>\n",
       "      <td>Cary</td>\n",
       "      <td>0.316376</td>\n",
       "      <td>142</td>\n",
       "    </tr>\n",
       "    <tr>\n",
       "      <th>3</th>\n",
       "      <td>Actors</td>\n",
       "      <td>James</td>\n",
       "      <td>0.204560</td>\n",
       "      <td>108</td>\n",
       "    </tr>\n",
       "  </tbody>\n",
       "</table>\n",
       "</div>"
      ],
      "text/plain": [
       "    Category      name    rating  votes\n",
       "0     Actors  Humphery  0.929616    109\n",
       "5  Actresses    Ingrid  0.595545     63\n",
       "4  Actresses     Bette  0.567725     86\n",
       "1     Actors      Cary  0.316376    142\n",
       "3     Actors     James  0.204560    108"
      ]
     },
     "execution_count": 23,
     "metadata": {},
     "output_type": "execute_result"
    }
   ],
   "source": [
    "fake_ratings.sort_values('rating', ascending=False).head()"
   ]
  },
  {
   "cell_type": "code",
   "execution_count": 24,
   "id": "0c58bb2c",
   "metadata": {},
   "outputs": [
    {
     "data": {
      "text/plain": [
       "b'    Ingrid is the actor with the highest rating.'"
      ]
     },
     "execution_count": 24,
     "metadata": {},
     "output_type": "execute_result"
    }
   ],
   "source": [
    "nugget.render(fake_ratings)"
   ]
  },
  {
   "cell_type": "code",
   "execution_count": 25,
   "id": "a444fde1",
   "metadata": {},
   "outputs": [
    {
     "name": "stdout",
     "output_type": "stream",
     "text": [
      "{% set fh_args = {\"_sort\": [\"-rating\"]}  %}\n",
      "{% set df = U.gfilter(orgdf, fh_args.copy()) %}\n",
      "{% set fh_args = U.sanitize_fh_args(fh_args, orgdf) %}\n",
      "{# Do not edit above this line. #}\n",
      "{{ df[\"name\"].iloc[1] }} is the {{ G.singular(df[\"Category\"].iloc[3]).lower() }} with the highest {{ df.columns[2] }}.\n"
     ]
    }
   ],
   "source": [
    "print(nugget.template)"
   ]
  },
  {
   "cell_type": "code",
   "execution_count": 26,
   "id": "e7fbb04c",
   "metadata": {},
   "outputs": [
    {
     "data": {
      "text/plain": [
       "{rating: {{ df.columns[2] }},\n",
       " James: {{ df[\"name\"].iloc[1] }},\n",
       " actor: {{ G.singular(df[\"Category\"].iloc[3]).lower() }}}"
      ]
     },
     "execution_count": 26,
     "metadata": {},
     "output_type": "execute_result"
    }
   ],
   "source": [
    "nugget.variables"
   ]
  },
  {
   "cell_type": "code",
   "execution_count": 35,
   "id": "d581ad9b",
   "metadata": {},
   "outputs": [
    {
     "data": {
      "text/plain": [
       "{{ G.singular(df[\"Category\"].iloc[0]).lower() }}"
      ]
     },
     "execution_count": 35,
     "metadata": {},
     "output_type": "execute_result"
    }
   ],
   "source": [
    "var = nugget.get_var('actor')\n",
    "var.set_expr('df[\"Category\"].iloc[0]')\n",
    "var"
   ]
  },
  {
   "cell_type": "code",
   "execution_count": 36,
   "id": "214f9f08",
   "metadata": {},
   "outputs": [
    {
     "data": {
      "text/plain": [
       "{rating: {{ df.columns[2] }},\n",
       " James: {{ df[\"name\"].iloc[1] }},\n",
       " actor: {{ G.singular(df[\"Category\"].iloc[0]).lower() }}}"
      ]
     },
     "execution_count": 36,
     "metadata": {},
     "output_type": "execute_result"
    }
   ],
   "source": [
    "nugget.variables"
   ]
  },
  {
   "cell_type": "code",
   "execution_count": 38,
   "id": "3c3df14c",
   "metadata": {},
   "outputs": [
    {
     "data": {
      "text/plain": [
       "b'    Ingrid is the actor with the highest rating.'"
      ]
     },
     "execution_count": 38,
     "metadata": {},
     "output_type": "execute_result"
    }
   ],
   "source": [
    "nugget.render(fake_ratings)"
   ]
  },
  {
   "cell_type": "code",
   "execution_count": null,
   "id": "5e64bff6",
   "metadata": {},
   "outputs": [],
   "source": []
  },
  {
   "cell_type": "code",
   "execution_count": null,
   "id": "00f59574",
   "metadata": {},
   "outputs": [],
   "source": []
  },
  {
   "cell_type": "code",
   "execution_count": null,
   "id": "faddcdd9",
   "metadata": {},
   "outputs": [],
   "source": []
  },
  {
   "cell_type": "code",
   "execution_count": null,
   "id": "336fb90a",
   "metadata": {},
   "outputs": [],
   "source": []
  },
  {
   "cell_type": "code",
   "execution_count": null,
   "id": "22183efd",
   "metadata": {},
   "outputs": [],
   "source": []
  },
  {
   "cell_type": "code",
   "execution_count": null,
   "id": "503083ea",
   "metadata": {},
   "outputs": [],
   "source": []
  },
  {
   "cell_type": "code",
   "execution_count": null,
   "id": "e9f69f68",
   "metadata": {},
   "outputs": [],
   "source": []
  },
  {
   "cell_type": "code",
   "execution_count": null,
   "id": "171b4ddc",
   "metadata": {},
   "outputs": [],
   "source": []
  },
  {
   "cell_type": "code",
   "execution_count": 10,
   "id": "8846eeff",
   "metadata": {},
   "outputs": [],
   "source": [
    "######################################## Using Rule Based Method #############################################"
   ]
  },
  {
   "cell_type": "code",
   "execution_count": 13,
   "id": "26ff1b0c",
   "metadata": {},
   "outputs": [
    {
     "name": "stdout",
     "output_type": "stream",
     "text": [
      "Last month, Feb-24, target is achieved for Internet Channel.\n",
      "Last month, Feb-24, target is achieved for Mobile Channel.\n",
      "From the past three months for Internet Channel, Jan-24 shows the lowest Success Percentage.\n",
      "From the past three months for Internet Channel, Feb-24 has the highest total volume, and Jan-24 has the lowest total volume.\n",
      "From the past three months for Mobile Channel, Jan-24 shows the lowest Success Percentage.\n",
      "From the past three months for Mobile Channel, Feb-24 shows the lowest Success Percentage.\n",
      "From the past three months for Mobile Channel, Feb-24 has the highest total volume, and Jan-24 has the lowest total volume.\n"
     ]
    }
   ],
   "source": [
    "import pandas as pd\n",
    "from datetime import datetime\n",
    "\n",
    "# Create DataFrame from the provided table\n",
    "data = {\n",
    "    'Country': ['HK', 'HK', 'HK', 'HK', 'HK', 'HK'],\n",
    "    'Channel': ['Internet', 'Internet', 'Internet', 'Mobile', 'Mobile', 'Mobile'],\n",
    "    'Month_Year': ['Dec-23', 'Jan-24', 'Feb-24', 'Dec-23', 'Jan-24', 'Feb-24'],\n",
    "    'Successful': [673480, 630152, 673480, 123456, 673480, 876767],\n",
    "    'UnSuccessful': [673480, 630152, 673480, 123456, 673480, 876767],\n",
    "    'Total': [673480, 630152, 673480, 123456, 673480, 876767],\n",
    "    'Success Percentage': [99.9, 95.8, 99.87, 99.9, 99.87, 99.87]\n",
    "}\n",
    "\n",
    "df = pd.DataFrame(data)\n",
    "\n",
    "# Convert Month_Year column to datetime format\n",
    "df['Month_Year'] = pd.to_datetime(df['Month_Year'], format='%b-%y')\n",
    "\n",
    "# Define NLG function to generate summary\n",
    "def generate_summary(data):\n",
    "    summary = []\n",
    "\n",
    "    # Check if latest month success percentage is greater than 99.67%\n",
    "    latest_month = data['Month_Year'].max()\n",
    "    latest_data = data[data['Month_Year'] == latest_month]\n",
    "    for _, row in latest_data.iterrows():\n",
    "        if row['Success Percentage'] > 99.67:\n",
    "            summary.append(f\"Last month, {latest_month.strftime('%b-%y')}, target is achieved for {row['Channel']} Channel.\")\n",
    "\n",
    "    # Analyze success percentage trends for each channel over the past three months\n",
    "    for channel, channel_data in data.groupby('Channel'):\n",
    "        trend_data = channel_data.tail(3)\n",
    "        min_success_percentage = trend_data['Success Percentage'].min()\n",
    "        for _, row in trend_data.iterrows():\n",
    "            if row['Success Percentage'] == min_success_percentage:\n",
    "                summary.append(f\"From the past three months for {channel} Channel, {row['Month_Year'].strftime('%b-%y')} shows the lowest Success Percentage.\")\n",
    "\n",
    "        # Analyze total volume trends for each channel over the past three months\n",
    "        total_volumes = trend_data['Total'].tolist()\n",
    "        max_volume_month = trend_data.loc[trend_data['Total'].idxmax(), 'Month_Year']\n",
    "        min_volume_month = trend_data.loc[trend_data['Total'].idxmin(), 'Month_Year']\n",
    "        if max_volume_month != min_volume_month:\n",
    "            summary.append(f\"From the past three months for {channel} Channel, {max_volume_month.strftime('%b-%y')} has the highest total volume, and {min_volume_month.strftime('%b-%y')} has the lowest total volume.\")\n",
    "\n",
    "    return summary\n",
    "\n",
    "# Generate summary\n",
    "summary = generate_summary(df)\n",
    "\n",
    "# Print summary\n",
    "for s in summary:\n",
    "    print(s)\n"
   ]
  },
  {
   "cell_type": "code",
   "execution_count": null,
   "id": "fcc51709",
   "metadata": {},
   "outputs": [],
   "source": []
  },
  {
   "cell_type": "code",
   "execution_count": null,
   "id": "7725dcfb",
   "metadata": {},
   "outputs": [],
   "source": []
  },
  {
   "cell_type": "code",
   "execution_count": null,
   "id": "379e141c",
   "metadata": {},
   "outputs": [],
   "source": []
  },
  {
   "cell_type": "code",
   "execution_count": null,
   "id": "a5663907",
   "metadata": {},
   "outputs": [],
   "source": [
    "################## Filering based on Country ############"
   ]
  },
  {
   "cell_type": "code",
   "execution_count": 5,
   "id": "90a0842a",
   "metadata": {},
   "outputs": [
    {
     "name": "stdout",
     "output_type": "stream",
     "text": [
      "Summary for HK:\n",
      "Last month, Feb-24, target is achieved for Internet Channel.\n",
      "From the past three months for Internet Channel, Feb-24 shows the lowest Success Percentage.\n",
      "From the past three months for Internet Channel, Feb-24 has the highest total volume, and Dec-23 has the lowest total volume.\n",
      "From the past three months for Mobile Channel, Jan-24 shows the lowest Success Percentage.\n",
      "Summary for SG:\n",
      "Last month, Feb-24, target is achieved for Mobile Channel.\n",
      "From the past three months for Internet Channel, Jan-24 shows the lowest Success Percentage.\n",
      "From the past three months for Mobile Channel, Feb-24 shows the lowest Success Percentage.\n",
      "From the past three months for Mobile Channel, Feb-24 has the highest total volume, and Dec-23 has the lowest total volume.\n"
     ]
    }
   ],
   "source": [
    "import pandas as pd\n",
    "from datetime import datetime\n",
    "from textblob import TextBlob\n",
    "\n",
    "# Create DataFrame from the provided table\n",
    "data = {\n",
    "    'Country': ['HK', 'SG', 'HK', 'SG', 'HK', 'SG'],\n",
    "    'Channel': ['Internet', 'Internet', 'Internet', 'Mobile', 'Mobile', 'Mobile'],\n",
    "    'Month_Year': ['Dec-23', 'Jan-24', 'Feb-24', 'Dec-23', 'Jan-24', 'Feb-24'],\n",
    "    'Successful': [673480, 630152, 777223, 6751532, 6063108, 7002254],\n",
    "    'UnSuccessful': [16516, 17966, 18763, 238105, 224842, 235435],\n",
    "    'Total': [689996, 648118, 795986, 6989637, 6287950, 7237689],\n",
    "    'Success Percentage': [99.9, 95.8, 99.87, 99.9, 99.87, 99.87]\n",
    "}\n",
    "\n",
    "df = pd.DataFrame(data)\n",
    "\n",
    "# Convert Month_Year column to datetime format\n",
    "df['Month_Year'] = pd.to_datetime(df['Month_Year'], format='%b-%y')\n",
    "\n",
    "# Define NLG function to generate summary\n",
    "def generate_summary(data):\n",
    "    summary = []\n",
    "    \n",
    "    # Group data by country\n",
    "    grouped_data = data.groupby('Country')\n",
    "\n",
    "    # Iterate over each country\n",
    "    for country, country_data in grouped_data:\n",
    "        summary.append(f\"Summary for {country}:\")\n",
    "        \n",
    "        # Check if latest month success percentage is significantly above or below the threshold\n",
    "        latest_month = country_data['Month_Year'].max()\n",
    "        latest_data = country_data[country_data['Month_Year'] == latest_month]\n",
    "        for _, row in latest_data.iterrows():\n",
    "            if row['Success Percentage'] > 99.67:\n",
    "                sentiment = 'achieved'\n",
    "            else:\n",
    "                sentiment = 'slightly missed'\n",
    "            summary.append(f\"Last month, {latest_month.strftime('%b-%y')}, target is {sentiment} for {row['Channel']} Channel.\")\n",
    "\n",
    "        # Analyze success percentage trends for each channel over the past three months\n",
    "        for channel, channel_data in country_data.groupby('Channel'):\n",
    "            trend_data = channel_data.tail(3)\n",
    "            min_success_percentage = trend_data['Success Percentage'].min()\n",
    "            for _, row in trend_data.iterrows():\n",
    "                if row['Success Percentage'] == min_success_percentage:\n",
    "                    summary.append(f\"From the past three months for {channel} Channel, {row['Month_Year'].strftime('%b-%y')} shows the lowest Success Percentage.\")\n",
    "\n",
    "            # Analyze total volume trends for each channel over the past three months\n",
    "            total_volumes = trend_data['Total'].tolist()\n",
    "            max_volume_month = trend_data.loc[trend_data['Total'].idxmax(), 'Month_Year']\n",
    "            min_volume_month = trend_data.loc[trend_data['Total'].idxmin(), 'Month_Year']\n",
    "            if max_volume_month != min_volume_month:\n",
    "                summary.append(f\"From the past three months for {channel} Channel, {max_volume_month.strftime('%b-%y')} has the highest total volume, and {min_volume_month.strftime('%b-%y')} has the lowest total volume.\")\n",
    "    \n",
    "    return summary\n",
    "\n",
    "# Generate summary\n",
    "summary = generate_summary(df)\n",
    "\n",
    "# Print summary\n",
    "for s in summary:\n",
    "    print(s)\n"
   ]
  },
  {
   "cell_type": "code",
   "execution_count": null,
   "id": "0df6e1a3",
   "metadata": {},
   "outputs": [],
   "source": []
  },
  {
   "cell_type": "code",
   "execution_count": null,
   "id": "a6f6c2be",
   "metadata": {},
   "outputs": [],
   "source": []
  },
  {
   "cell_type": "code",
   "execution_count": null,
   "id": "99203c9d",
   "metadata": {},
   "outputs": [],
   "source": []
  }
 ],
 "metadata": {
  "kernelspec": {
   "display_name": "Python 3 (ipykernel)",
   "language": "python",
   "name": "python3"
  },
  "language_info": {
   "codemirror_mode": {
    "name": "ipython",
    "version": 3
   },
   "file_extension": ".py",
   "mimetype": "text/x-python",
   "name": "python",
   "nbconvert_exporter": "python",
   "pygments_lexer": "ipython3",
   "version": "3.7.4"
  }
 },
 "nbformat": 4,
 "nbformat_minor": 5
}
